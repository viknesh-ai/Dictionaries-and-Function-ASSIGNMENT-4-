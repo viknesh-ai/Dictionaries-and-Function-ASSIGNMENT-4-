{
 "cells": [
  {
   "cell_type": "code",
   "execution_count": 5,
   "id": "c562f59c",
   "metadata": {},
   "outputs": [
    {
     "name": "stdout",
     "output_type": "stream",
     "text": [
      "Enter the Side a :30\n",
      "Enter the Side b :21\n",
      "Enter the Side c :24\n",
      "The sides of triangle are a=30.0, b=21.0, c=24.0\n",
      "The Area of the triangle is 250.30\n"
     ]
    }
   ],
   "source": [
    "#QUESTION 1.1\n",
    "class Triangle:\n",
    "    def __init__(self):\n",
    "        ''' This method has been used as an self constructor for Traingle class'''\n",
    "        number_of_sides=['a','b','c']\n",
    "        self.TriangleSides=number_of_sides\n",
    "        \n",
    "    def sides_Of_Triangle(self):\n",
    "        ''' This method will return sides of Traingle'''\n",
    "        self.sides_Of_Traingle=[input(\"Enter the Side \"+i+\" :\") for i in self.TriangleSides]\n",
    "        \n",
    "    \n",
    "class Traingle_Area(Triangle):\n",
    "    def __init__(self):\n",
    "        '''This method will inherit properties and attrivutes fro Parent class \"Traingle\" and it's class \"TraingleArea\"  '''\n",
    "        Triangle.__init__(self)\n",
    "        \n",
    "    def area_Of_Triangle(self):\n",
    "        '''This method will return an Area of Triangle'''\n",
    "        \n",
    "        \n",
    "        triangleSides=iter(self.sides_Of_Traingle)\n",
    "        a=float(next(triangleSides))\n",
    "        b=float(next(triangleSides))\n",
    "        c=float(next(triangleSides))      \n",
    "           \n",
    "                \n",
    "        s= (a+b+c)*0.5        \n",
    "                \n",
    "        Area = (s*(s-a)*(s-b)*(s-c))**0.5    \n",
    "        print(\"The sides of triangle are a=\"+str(a)+\", b=\"+str(b)+\", c=\"+str(c))     \n",
    "        Area = ('The Area of the triangle is %0.2f' %Area )\n",
    "        \n",
    "        print(Area)\n",
    "Area_Of_Traingle = Traingle_Area()\n",
    "Area_Of_Traingle.sides_Of_Triangle()\n",
    "Area_Of_Traingle.area_Of_Triangle()\n",
    "        "
   ]
  },
  {
   "cell_type": "code",
   "execution_count": 6,
   "id": "c9146e57",
   "metadata": {},
   "outputs": [
    {
     "name": "stdout",
     "output_type": "stream",
     "text": [
      "Input:\n",
      "Please enter your words: viki,chennai,marina\n",
      "Please enter your number: 3\n",
      "\n",
      " Output:\n",
      "\n",
      " The List of longest words , which  are longer than 3 is :\n"
     ]
    },
    {
     "data": {
      "text/plain": [
       "['viki', 'chennai', 'marina']"
      ]
     },
     "execution_count": 6,
     "metadata": {},
     "output_type": "execute_result"
    }
   ],
   "source": [
    "#QUESTION 1.2\n",
    "def filter_long_words(WordList,n):\n",
    "    ''' This function returns list of words are longer than Argument n . \n",
    "    Note : n has been considerd has an integer'''\n",
    "    \n",
    "    \n",
    "    Wordlist=[x.strip() for x in WordList if len(x.strip())>n]\n",
    "    \n",
    "    if(len(Wordlist)>0):\n",
    "        print(\"\\n Output:\")\n",
    "        print(\"\\n The List of longest words , which  are longer than \"+str(n)+\" is :\")\n",
    "        return Wordlist\n",
    "    else:\n",
    "        return \"No Words longer than specified number \"+str(n)\n",
    "    \n",
    "\n",
    "print(\"Input:\")\n",
    "string= input(\"Please enter your words: \")\n",
    "number= int(input(\"Please enter your number: \"))\n",
    "\n",
    "\n",
    "list_Of_Words = list(string.split(\",\"))\n",
    "\n",
    "filter_long_words(list_Of_Words,number)"
   ]
  },
  {
   "cell_type": "code",
   "execution_count": 7,
   "id": "56e8f8f3",
   "metadata": {},
   "outputs": [
    {
     "name": "stdout",
     "output_type": "stream",
     "text": [
      "Input : Please enter Words : er,rt,wert\n",
      "Output: Length of Words are : [2, 2, 4]\n"
     ]
    }
   ],
   "source": [
    "#question 2.1\n",
    "def map_Words_to_Length(List):\n",
    "    ''' This function Map's the words with their corresponding length'''\n",
    "    return list(map(len, List))\n",
    "\n",
    "word_List=list(input(\"Input : Please enter Words : \").split(\",\"))\n",
    "\n",
    "List=[x.strip() for x in word_List]\n",
    "\n",
    "Words_lengths=map_Words_to_Length(List)\n",
    "\n",
    "print(\"Output: Length of Words are :\",Words_lengths )"
   ]
  },
  {
   "cell_type": "code",
   "execution_count": 8,
   "id": "57725c64",
   "metadata": {},
   "outputs": [
    {
     "name": "stdout",
     "output_type": "stream",
     "text": [
      "Enter character to check that it is Vowel or not\n",
      "Input Value: e\n",
      "Output Value: True\n"
     ]
    }
   ],
   "source": [
    "#question 2.2\n",
    "def vowel_checker(inputChar):\n",
    "    \n",
    "    '''This function will return True/False based upon input character provided by user'''\n",
    "    return_value=''\n",
    "    if(len(inputChar)==1):\n",
    "        vowel_list=['a','e','i','o','u']\n",
    "        if (inputChar.lower() in vowel_list):\n",
    "            return_value= True\n",
    "        else:\n",
    "            return_value= False\n",
    "    else:\n",
    "        return_value=\"Please enter single character only!\"        \n",
    "    return return_value\n",
    "\n",
    "\n",
    "print(\"Enter character to check that it is Vowel or not\")\n",
    "input_value = input(\"Input Value: \")\n",
    "\n",
    "output_value=vowel_checker(input_value) \n",
    "\n",
    "print(\"Output Value:\",output_value)"
   ]
  }
 ],
 "metadata": {
  "kernelspec": {
   "display_name": "Python 3",
   "language": "python",
   "name": "python3"
  },
  "language_info": {
   "codemirror_mode": {
    "name": "ipython",
    "version": 3
   },
   "file_extension": ".py",
   "mimetype": "text/x-python",
   "name": "python",
   "nbconvert_exporter": "python",
   "pygments_lexer": "ipython3",
   "version": "3.8.8"
  }
 },
 "nbformat": 4,
 "nbformat_minor": 5
}
